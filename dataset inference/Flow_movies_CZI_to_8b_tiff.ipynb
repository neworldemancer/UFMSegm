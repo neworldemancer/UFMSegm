{
 "cells": [
  {
   "cell_type": "markdown",
   "metadata": {},
   "source": [
    "   Copyright 2015-2023, University of Bern, Laboratory for High Energy Physics and Theodor Kocher Institute, M. Vladymyrov\n",
    "\n",
    "   Licensed under the Apache License, Version 2.0 (the \"License\");\n",
    "   you may not use this file except in compliance with the License.\n",
    "   You may obtain a copy of the License at\n",
    "\n",
    "       http://www.apache.org/licenses/LICENSE-2.0\n",
    "\n",
    "   Unless required by applicable law or agreed to in writing, software\n",
    "   distributed under the License is distributed on an \"AS IS\" BASIS,\n",
    "   WITHOUT WARRANTIES OR CONDITIONS OF ANY KIND, either express or implied.\n",
    "   See the License for the specific language governing permissions and\n",
    "   limitations under the License.\n"
   ]
  },
  {
   "cell_type": "markdown",
   "metadata": {},
   "source": [
    "# 0. libs & utils"
   ]
  },
  {
   "cell_type": "code",
   "execution_count": null,
   "metadata": {
    "ExecuteTime": {
     "end_time": "2022-10-24T14:08:23.901559Z",
     "start_time": "2022-10-24T14:08:09.995787Z"
    }
   },
   "outputs": [],
   "source": [
    "import skimage\n",
    "from skimage.filters import gaussian\n",
    "from scipy.signal import argrelmin\n",
    "import numpy as np\n",
    "import matplotlib.pyplot as plt\n",
    "import utils.imgio as iio\n",
    "import utils.imgio\n",
    "\n",
    "from utils.CZI_image import CZI_image\n",
    "\n",
    "import os\n",
    "import glob\n",
    "\n",
    "import shutil\n",
    "import pickle"
   ]
  },
  {
   "cell_type": "code",
   "execution_count": null,
   "metadata": {
    "ExecuteTime": {
     "end_time": "2022-10-24T14:08:23.903548Z",
     "start_time": "2022-10-24T14:08:10.248Z"
    }
   },
   "outputs": [],
   "source": [
    "from aicsimageio import AICSImage\n",
    "import re\n",
    "from PIL import Image\n",
    "from utils import imgio as iio"
   ]
  },
  {
   "cell_type": "code",
   "execution_count": null,
   "metadata": {
    "ExecuteTime": {
     "end_time": "2022-10-24T14:08:53.760481Z",
     "start_time": "2022-10-24T14:08:53.748489Z"
    },
    "code_folding": [
     0
    ]
   },
   "outputs": [],
   "source": [
    "def save_pckl(d, fname):\n",
    "    with open(fname, 'wb') as f:\n",
    "        pickle.dump(d, f, protocol=pickle.DEFAULT_PROTOCOL)\n",
    "def load_pckl(fname):\n",
    "    with open(fname, 'rb') as f:\n",
    "        data = pickle.load(f)\n",
    "    return data"
   ]
  },
  {
   "cell_type": "code",
   "execution_count": null,
   "metadata": {
    "ExecuteTime": {
     "end_time": "2022-10-24T14:08:23.905543Z",
     "start_time": "2022-10-24T14:08:10.890Z"
    },
    "code_folding": [
     0
    ]
   },
   "outputs": [],
   "source": [
    "def ish(im, vmin=0, vmax=255):\n",
    "    plt.imshow(im, cmap='gray', vmin=vmin, vmax=vmax)\n",
    "    plt.show()\n",
    "    plt.close()"
   ]
  },
  {
   "cell_type": "code",
   "execution_count": null,
   "metadata": {
    "ExecuteTime": {
     "end_time": "2022-10-24T14:08:23.906556Z",
     "start_time": "2022-10-24T14:08:11.748Z"
    },
    "code_folding": [
     0
    ]
   },
   "outputs": [],
   "source": [
    "def read_mp_tiff(path):\n",
    "    \"\"\"\n",
    "    Args:\n",
    "        path (str) : path to the images, e.g. `/path/to/stacks/img.png`\n",
    "\n",
    "    Returns:\n",
    "        image (np.ndarray): image, DHWC\n",
    "    \"\"\"\n",
    "    img = Image.open(path)\n",
    "    images = []\n",
    "    for i in range(img.n_frames):\n",
    "        img.seek(i)\n",
    "        images.append(np.array(img))\n",
    "    return np.array(images)"
   ]
  },
  {
   "cell_type": "code",
   "execution_count": null,
   "metadata": {},
   "outputs": [],
   "source": [
    "def minmax(a):\n",
    "    return np.min(a), np.max(a)"
   ]
  },
  {
   "cell_type": "markdown",
   "metadata": {
    "heading_collapsed": true
   },
   "source": [
    "# 1. Interface"
   ]
  },
  {
   "cell_type": "code",
   "execution_count": null,
   "metadata": {
    "ExecuteTime": {
     "end_time": "2022-08-30T15:23:19.948948Z",
     "start_time": "2022-08-30T15:23:19.933130Z"
    },
    "code_folding": [],
    "hidden": true
   },
   "outputs": [],
   "source": [
    "def save_as_8bit_tifs(root_dir, ds_name, ci):\n",
    "    # format : <ds_name>_t0xcxmx.tif\n",
    "    \n",
    "    n_c = ci.n_c\n",
    "    n_tile = ci.n_tile\n",
    "    n_t = ci.n_t\n",
    "    \n",
    "    \n",
    "    tmpl_t = 't%0' + '%d' % len('%d' % n_t) + 'd'\n",
    "    tmpl_ch = 'c%0' + '%d' % len('%d' % n_c) + 'd'\n",
    "    tmpl_tl = 'm%0' + '%d' % len('%d' % n_tile) + 'd'\n",
    "    \n",
    "    path = os.path.join(root_dir, ds_name)\n",
    "    os.makedirs(path, exist_ok=True)\n",
    "    \n",
    "    for ch in range(n_c):\n",
    "        arr = [minmax(ci.get_frame(tile=tile, t=t, c=ch)) for t in range(n_t) for tile in range(n_tile)]\n",
    "        arr = np.array(arr).T\n",
    "        v_min = np.min(arr[0])\n",
    "        v_max = np.max(arr[1])\n",
    "        del arr\n",
    "        \n",
    "        print(ch, v_min, v_max)\n",
    "        \n",
    "        for t in range(n_t):\n",
    "            for tile in range(n_tile):\n",
    "        \n",
    "                sfx = '_'\n",
    "                sfx += tmpl_t % (t+1)\n",
    "\n",
    "                sfx += tmpl_ch % (ch+1)\n",
    "\n",
    "                sfx += tmpl_tl % (tile+1)\n",
    "\n",
    "                name = os.path.join(path, ds_name + sfx + '.tif')\n",
    "                \n",
    "                im = ci.get_frame(tile=tile, t=t, c=ch)\n",
    "                im_normed = (im-v_min) / (v_max - v_min)\n",
    "                im_8b = (255*im_normed.clip(0, 1)).astype(np.uint8)\n",
    "                \n",
    "                iio.save_image(im_8b, name)"
   ]
  },
  {
   "cell_type": "code",
   "execution_count": null,
   "metadata": {
    "ExecuteTime": {
     "end_time": "2022-08-30T15:23:21.429528Z",
     "start_time": "2022-08-30T15:23:21.417536Z"
    },
    "code_folding": [],
    "hidden": true
   },
   "outputs": [],
   "source": [
    "def dataset_from_czi(root_dir, image_file_name):\n",
    "    \"\"\"\n",
    "    Generates images from 2 merged tiles in x direction\n",
    "    \"\"\"\n",
    "    # read\n",
    "    print('reading')\n",
    "    ci = CZI_image(image_file_name)\n",
    "    ds_name = os.path.splitext(os.path.basename(fname))[0]\n",
    "    save_as_8bit_tifs(root_dir, ds_name, ci)\n",
    "    del ci"
   ]
  },
  {
   "cell_type": "markdown",
   "metadata": {
    "heading_collapsed": true,
    "hidden": true
   },
   "source": [
    "## tests"
   ]
  },
  {
   "cell_type": "code",
   "execution_count": null,
   "metadata": {
    "hidden": true
   },
   "outputs": [],
   "source": [
    "%%time\n",
    "#test:\n",
    "\n",
    "fname = r'g:\\IVFCA\\Dixy\\FC8_Untreated.czi'\n",
    "root_dir = os.path.dirname(fname)\n",
    "\n",
    "ci = CZI_image(file_name=fname)"
   ]
  },
  {
   "cell_type": "code",
   "execution_count": null,
   "metadata": {
    "hidden": true
   },
   "outputs": [],
   "source": [
    "root_dir = os.path.dirname(fname)"
   ]
  },
  {
   "cell_type": "code",
   "execution_count": null,
   "metadata": {
    "hidden": true
   },
   "outputs": [],
   "source": [
    "ds_name = os.path.splitext(os.path.basename(fname))[0]"
   ]
  },
  {
   "cell_type": "code",
   "execution_count": null,
   "metadata": {
    "hidden": true
   },
   "outputs": [],
   "source": [
    "save_as_8bit_tifs(root_dir, ds_name, ci)"
   ]
  },
  {
   "cell_type": "markdown",
   "metadata": {},
   "source": [
    "# 2. batch proc"
   ]
  },
  {
   "cell_type": "code",
   "execution_count": null,
   "metadata": {
    "ExecuteTime": {
     "end_time": "2022-10-24T14:09:15.718701Z",
     "start_time": "2022-10-24T14:09:15.707708Z"
    }
   },
   "outputs": [],
   "source": [
    "src_dir = r'D:\\data\\set\\path'\n",
    "root_dir = src_dir"
   ]
  },
  {
   "cell_type": "code",
   "execution_count": null,
   "metadata": {
    "ExecuteTime": {
     "end_time": "2022-08-30T15:24:34.100502Z",
     "start_time": "2022-08-30T15:24:34.085526Z"
    },
    "scrolled": true
   },
   "outputs": [],
   "source": [
    "all_ds = list(glob.glob(src_dir+ '\\\\**\\\\'+'*.czi', recursive=True))\n",
    "for name in all_ds:\n",
    "    print(name)"
   ]
  },
  {
   "cell_type": "code",
   "execution_count": null,
   "metadata": {},
   "outputs": [],
   "source": [
    "%%time\n",
    "\n",
    "for fname in all_ds:\n",
    "    dataset_from_czi(root_dir, fname)"
   ]
  },
  {
   "cell_type": "code",
   "execution_count": null,
   "metadata": {},
   "outputs": [],
   "source": []
  }
 ],
 "metadata": {
  "kernelspec": {
   "display_name": "Python 3 (ipykernel)",
   "language": "python",
   "name": "python3"
  },
  "language_info": {
   "codemirror_mode": {
    "name": "ipython",
    "version": 3
   },
   "file_extension": ".py",
   "mimetype": "text/x-python",
   "name": "python",
   "nbconvert_exporter": "python",
   "pygments_lexer": "ipython3",
   "version": "3.7.11"
  }
 },
 "nbformat": 4,
 "nbformat_minor": 4
}
