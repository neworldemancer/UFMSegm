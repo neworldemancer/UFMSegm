{
 "cells": [
  {
   "cell_type": "markdown",
   "metadata": {},
   "source": [
    "   Copyright 2015-2023, University of Bern, Laboratory for High Energy Physics and Theodor Kocher Institute, M. Vladymyrov\n",
    "\n",
    "   Licensed under the Apache License, Version 2.0 (the \"License\");\n",
    "   you may not use this file except in compliance with the License.\n",
    "   You may obtain a copy of the License at\n",
    "\n",
    "       http://www.apache.org/licenses/LICENSE-2.0\n",
    "\n",
    "   Unless required by applicable law or agreed to in writing, software\n",
    "   distributed under the License is distributed on an \"AS IS\" BASIS,\n",
    "   WITHOUT WARRANTIES OR CONDITIONS OF ANY KIND, either express or implied.\n",
    "   See the License for the specific language governing permissions and\n",
    "   limitations under the License.\n"
   ]
  },
  {
   "cell_type": "markdown",
   "metadata": {},
   "source": [
    "# 0. libs & utils"
   ]
  },
  {
   "cell_type": "code",
   "metadata": {},
   "source": [
    "import sys\n",
    "\n",
    "from PIL.Image import enum\n",
    "\n",
    "sys.path.append('../model training')\n",
    "\n",
    "from utils.imp_gui import *\n",
    "import os\n",
    "\n",
    "# import skimage\n",
    "# from skimage.filters import gaussian\n",
    "# from scipy.signal import argrelmin\n",
    "# import numpy as np\n",
    "# import matplotlib.pyplot as plt\n",
    "# import utils.imgio as iio\n",
    "# import utils.imgio\n",
    "# from tqdm.auto import tqdm\n",
    "# \n",
    "# from utils.CZI_image import CZI_image\n",
    "# \n",
    "# import os\n",
    "# import glob\n",
    "# \n",
    "# import shutil\n",
    "# import pickle\n",
    "# \n",
    "# #import ipywidgets as widgets\n",
    "# from IPython.display import display\n",
    "# from ipywidgets import Layout, HBox, VBox, Text, Button, Output, HTML\n",
    "# \n",
    "# from dataclasses import dataclass, asdict\n",
    "# import json\n",
    "# import traceback\n",
    "# \n",
    "# from aicsimageio import AICSImage\n",
    "# import re\n",
    "# from PIL import Image\n",
    "# from utils import imgio as iio"
   ],
   "outputs": [],
   "execution_count": null
  },
  {
   "cell_type": "code",
   "metadata": {
    "code_folding": [
     0
    ]
   },
   "source": [
    "# def save_pckl(d, fname):\n",
    "#     with open(fname, 'wb') as f:\n",
    "#         pickle.dump(d, f, protocol=pickle.DEFAULT_PROTOCOL)\n",
    "# def load_pckl(fname):\n",
    "#     with open(fname, 'rb') as f:\n",
    "#         data = pickle.load(f)\n",
    "#     return data"
   ],
   "outputs": [],
   "execution_count": null
  },
  {
   "cell_type": "code",
   "metadata": {
    "code_folding": [
     0
    ]
   },
   "source": [
    "# def ish(im, vmin=0, vmax=255):\n",
    "#     plt.imshow(im, cmap='gray', vmin=vmin, vmax=vmax)\n",
    "#     plt.show()\n",
    "#     plt.close()"
   ],
   "outputs": [],
   "execution_count": null
  },
  {
   "cell_type": "code",
   "metadata": {
    "code_folding": [
     0
    ]
   },
   "source": [
    "# def read_mp_tiff(path):\n",
    "#     \"\"\"\n",
    "#     Args:\n",
    "#         path (str) : path to the images, e.g. `/path/to/stacks/img.png`\n",
    "# \n",
    "#     Returns:\n",
    "#         image (np.ndarray): image, DHWC\n",
    "#     \"\"\"\n",
    "#     img = Image.open(path)\n",
    "#     images = []\n",
    "#     for i in range(img.n_frames):\n",
    "#         img.seek(i)\n",
    "#         images.append(np.array(img))\n",
    "#     return np.array(images)"
   ],
   "outputs": [],
   "execution_count": null
  },
  {
   "cell_type": "markdown",
   "metadata": {
    "heading_collapsed": true,
    "hidden": true
   },
   "source": [
    "## tests"
   ]
  },
  {
   "cell_type": "code",
   "metadata": {
    "hidden": true
   },
   "source": [
    "# #test:\n",
    "# \n",
    "# fname = r'Untreated.czi'\n",
    "# root_dir = os.path.dirname(fname)\n",
    "# ds_name = os.path.splitext(os.path.basename(fname))[0]\n",
    "# \n",
    "# \n",
    "# ci = CZI_image(file_name=fname)\n",
    "# save_as_8bit_tifs(root_dir, ds_name, ci)"
   ],
   "outputs": [],
   "execution_count": null
  },
  {
   "cell_type": "markdown",
   "metadata": {},
   "source": [
    "# 2. batch proc"
   ]
  },
  {
   "cell_type": "code",
   "metadata": {},
   "source": [
    "src_dir = r'g:\\IVFCA\\Chiara\\run3\\raw_data'\n",
    "root_dir = src_dir"
   ],
   "outputs": [],
   "execution_count": null
  },
  {
   "cell_type": "code",
   "metadata": {
    "scrolled": true
   },
   "source": [
    "all_ds = list(glob.glob(src_dir+ '\\\\**\\\\'+'*.czi', recursive=True))\n",
    "for name in all_ds:\n",
    "    print(name)"
   ],
   "outputs": [],
   "execution_count": null
  },
  {
   "metadata": {},
   "cell_type": "code",
   "source": [
    "%%time\n",
    "\n",
    "for fname in all_ds:\n",
    "    dataset_from_czi(root_dir, fname)"
   ],
   "outputs": [],
   "execution_count": null
  },
  {
   "metadata": {},
   "cell_type": "code",
   "source": "",
   "outputs": [],
   "execution_count": null
  }
 ],
 "metadata": {
  "kernelspec": {
   "display_name": "Python 3 (ipykernel)",
   "language": "python",
   "name": "python3"
  },
  "language_info": {
   "codemirror_mode": {
    "name": "ipython",
    "version": 3
   },
   "file_extension": ".py",
   "mimetype": "text/x-python",
   "name": "python",
   "nbconvert_exporter": "python",
   "pygments_lexer": "ipython3",
   "version": "3.7.11"
  }
 },
 "nbformat": 4,
 "nbformat_minor": 4
}
